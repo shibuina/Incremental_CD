{
 "cells": [
  {
   "cell_type": "code",
   "execution_count": 1,
   "metadata": {},
   "outputs": [],
   "source": [
    "import pandas as pd\n",
    "import numpy as np"
   ]
  },
  {
   "cell_type": "code",
   "execution_count": 14,
   "metadata": {},
   "outputs": [],
   "source": [
    "def scale_by_half_acc(arr):\n",
    "    arr_ = arr.copy().astype(np.float64)\n",
    "    key = np.unique(arr)\n",
    "    key = key[key != 0]\n",
    "    freq = {}\n",
    "    for k in key:\n",
    "        mask = (arr == k)\n",
    "        arr_new = arr[mask]\n",
    "        v = arr_new.size\n",
    "        freq[k] = v\n",
    "\n",
    "    pr = np.array(list(freq.values())) / len(arr[arr != 0])\n",
    "\n",
    "    pr_acc = pr.copy()\n",
    "    for i in range(len(pr_acc) - 1):\n",
    "        pr_acc[i + 1] = pr_acc[i] + pr_acc[i + 1]\n",
    "\n",
    "    pr_half_acc = pr_acc - pr / 2\n",
    "    \n",
    "    pr_dict = dict(zip(key, pr_half_acc))\n",
    "    print(pr_dict)\n",
    "    for k in key:\n",
    "        arr_[np.where(arr_ == k)] = pr_dict[k]\n",
    "    return arr_"
   ]
  },
  {
   "cell_type": "code",
   "execution_count": 17,
   "metadata": {},
   "outputs": [],
   "source": [
    "U = np.array([[1,2,3,4],[1,1,2,4],[5,5,2,3],[1,1,1,1],[1,9,8,7]])"
   ]
  }
 ],
 "metadata": {
  "kernelspec": {
   "display_name": "Python 3",
   "language": "python",
   "name": "python3"
  },
  "language_info": {
   "codemirror_mode": {
    "name": "ipython",
    "version": 3
   },
   "file_extension": ".py",
   "mimetype": "text/x-python",
   "name": "python",
   "nbconvert_exporter": "python",
   "pygments_lexer": "ipython3",
   "version": "3.6.2"
  }
 },
 "nbformat": 4,
 "nbformat_minor": 2
}
