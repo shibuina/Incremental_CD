{
 "cells": [
  {
   "cell_type": "code",
   "execution_count": 1,
   "metadata": {},
   "outputs": [],
   "source": [
    "from cluster_methods.missingness_cluster import miscluster\n",
    "from cluster_methods.projection_cluster import projcluster\n",
    "from model.model import gsrs\n",
    "from tools.tools import *\n",
    "from sys import path\n",
    "import pandas as pd\n",
    "import numpy as np\n",
    "import time\n",
    "import torch\n",
    "data = pd.read_csv('data/ratings.csv', header=None)"
   ]
  },
  {
   "cell_type": "code",
   "execution_count": 10,
   "metadata": {},
   "outputs": [
    {
     "data": {
      "text/html": [
       "<div>\n",
       "<style scoped>\n",
       "    .dataframe tbody tr th:only-of-type {\n",
       "        vertical-align: middle;\n",
       "    }\n",
       "\n",
       "    .dataframe tbody tr th {\n",
       "        vertical-align: top;\n",
       "    }\n",
       "\n",
       "    .dataframe thead th {\n",
       "        text-align: right;\n",
       "    }\n",
       "</style>\n",
       "<table border=\"1\" class=\"dataframe\">\n",
       "  <thead>\n",
       "    <tr style=\"text-align: right;\">\n",
       "      <th></th>\n",
       "      <th>0</th>\n",
       "      <th>1</th>\n",
       "      <th>2</th>\n",
       "    </tr>\n",
       "  </thead>\n",
       "  <tbody>\n",
       "    <tr>\n",
       "      <th>398586</th>\n",
       "      <td>2372</td>\n",
       "      <td>1834</td>\n",
       "      <td>3.0</td>\n",
       "    </tr>\n",
       "    <tr>\n",
       "      <th>461430</th>\n",
       "      <td>2847</td>\n",
       "      <td>2478</td>\n",
       "      <td>2.0</td>\n",
       "    </tr>\n",
       "    <tr>\n",
       "      <th>883007</th>\n",
       "      <td>5333</td>\n",
       "      <td>1517</td>\n",
       "      <td>3.0</td>\n",
       "    </tr>\n",
       "    <tr>\n",
       "      <th>247683</th>\n",
       "      <td>1496</td>\n",
       "      <td>2124</td>\n",
       "      <td>4.0</td>\n",
       "    </tr>\n",
       "    <tr>\n",
       "      <th>869450</th>\n",
       "      <td>5252</td>\n",
       "      <td>919</td>\n",
       "      <td>5.0</td>\n",
       "    </tr>\n",
       "    <tr>\n",
       "      <th>...</th>\n",
       "      <td>...</td>\n",
       "      <td>...</td>\n",
       "      <td>...</td>\n",
       "    </tr>\n",
       "    <tr>\n",
       "      <th>765937</th>\n",
       "      <td>4560</td>\n",
       "      <td>893</td>\n",
       "      <td>2.0</td>\n",
       "    </tr>\n",
       "    <tr>\n",
       "      <th>420376</th>\n",
       "      <td>2541</td>\n",
       "      <td>3043</td>\n",
       "      <td>2.0</td>\n",
       "    </tr>\n",
       "    <tr>\n",
       "      <th>197761</th>\n",
       "      <td>1215</td>\n",
       "      <td>2363</td>\n",
       "      <td>3.0</td>\n",
       "    </tr>\n",
       "    <tr>\n",
       "      <th>733482</th>\n",
       "      <td>4386</td>\n",
       "      <td>2163</td>\n",
       "      <td>3.0</td>\n",
       "    </tr>\n",
       "    <tr>\n",
       "      <th>287802</th>\n",
       "      <td>1717</td>\n",
       "      <td>3504</td>\n",
       "      <td>5.0</td>\n",
       "    </tr>\n",
       "  </tbody>\n",
       "</table>\n",
       "<p>100 rows × 3 columns</p>\n",
       "</div>"
      ],
      "text/plain": [
       "           0     1    2\n",
       "398586  2372  1834  3.0\n",
       "461430  2847  2478  2.0\n",
       "883007  5333  1517  3.0\n",
       "247683  1496  2124  4.0\n",
       "869450  5252   919  5.0\n",
       "...      ...   ...  ...\n",
       "765937  4560   893  2.0\n",
       "420376  2541  3043  2.0\n",
       "197761  1215  2363  3.0\n",
       "733482  4386  2163  3.0\n",
       "287802  1717  3504  5.0\n",
       "\n",
       "[100 rows x 3 columns]"
      ]
     },
     "execution_count": 10,
     "metadata": {},
     "output_type": "execute_result"
    }
   ],
   "source": [
    "data_sample = data.sample(frac=0.0001)\n",
    "data_sample"
   ]
  },
  {
   "cell_type": "code",
   "execution_count": 3,
   "metadata": {},
   "outputs": [],
   "source": [
    "data_sample_cuda = torch.tensor(data_sample.values).to('cuda')"
   ]
  },
  {
   "cell_type": "code",
   "execution_count": 4,
   "metadata": {},
   "outputs": [],
   "source": [
    "#divide the data into 10 clusters\n",
    "ug,ig = miscluster(data_sample, 10)\n",
    "clusters = {}\n",
    "clusters['uclusters'] = ug\n",
    "clusters['iclusters'] = ig"
   ]
  },
  {
   "cell_type": "code",
   "execution_count": 5,
   "metadata": {},
   "outputs": [],
   "source": [
    "paras = {'lambda':10, 'K':300, 'nstep':50, 'stopall':1e-3, 'stopone':1e-5, 'verbose':False, 'bias': False}\n",
    "test1 = gsrs(paras)\n",
    "test1.train(data_sample[[0,1]], data_sample[2], clusters)\n",
    "result = np.array(test1.predict(data_sample[[0,1]]))"
   ]
  },
  {
   "cell_type": "code",
   "execution_count": 9,
   "metadata": {},
   "outputs": [
    {
     "data": {
      "text/plain": [
       "array([3.1386078 , 3.73272209, 3.73272315, 4.34357509, 2.55791461,\n",
       "       3.73272448, 3.73272404, 3.73272374, 3.13860677, 3.13860774,\n",
       "       1.98644319, 3.73272357, 3.13860756, 3.73272453, 2.55791466,\n",
       "       3.73272501, 3.13860704, 4.31264148, 4.34357309, 3.73272471,\n",
       "       2.5579146 , 2.55791459, 3.73272367, 3.13860772, 2.55791464,\n",
       "       3.7327234 , 3.13860742, 3.13860793, 4.34357018, 4.3435715 ,\n",
       "       1.9864432 , 4.3435771 , 4.34357266, 3.13860774, 4.34357417,\n",
       "       2.57154941, 3.73272312, 3.73272517, 3.73272505, 2.55791462,\n",
       "       1.9864432 , 3.72458794, 2.55791466, 3.13860746, 2.55791465,\n",
       "       3.13860735, 4.34357333, 3.73272493, 3.17645701, 4.34357508,\n",
       "       2.55791465, 3.73272426, 2.55791464, 3.13860734, 3.13860788,\n",
       "       3.88056172, 3.13860799, 3.73272332, 4.34357632, 3.73272305,\n",
       "       4.34921482, 3.73272201, 3.73272226, 3.13860736, 1.98644319,\n",
       "       3.73272389, 3.13860752, 2.55791465, 3.73272327, 1.98644321,\n",
       "       4.20403843, 3.13860723, 3.73272419, 3.73272474, 2.55791458,\n",
       "       3.7327246 , 3.73272293, 3.1386073 , 4.34357409, 1.98644323,\n",
       "       3.73272359, 3.73272275, 2.75235701, 3.13860723, 4.34357414,\n",
       "       3.13860767, 3.73272362, 3.73272497, 4.34357195, 3.73272397,\n",
       "       2.80193981, 4.34357749, 1.98644323, 3.13860732, 3.73272392,\n",
       "       3.88056172, 4.3435763 , 2.55791459, 3.7327237 , 3.13860765])"
      ]
     },
     "execution_count": 9,
     "metadata": {},
     "output_type": "execute_result"
    }
   ],
   "source": [
    "result"
   ]
  },
  {
   "cell_type": "code",
   "execution_count": null,
   "metadata": {},
   "outputs": [],
   "source": []
  }
 ],
 "metadata": {
  "kernelspec": {
   "display_name": "Python 3 (ipykernel)",
   "language": "python",
   "name": "python3"
  },
  "language_info": {
   "codemirror_mode": {
    "name": "ipython",
    "version": 3
   },
   "file_extension": ".py",
   "mimetype": "text/x-python",
   "name": "python",
   "nbconvert_exporter": "python",
   "pygments_lexer": "ipython3",
   "version": "3.11.7"
  }
 },
 "nbformat": 4,
 "nbformat_minor": 4
}
